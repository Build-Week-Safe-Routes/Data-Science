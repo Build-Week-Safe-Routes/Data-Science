{
 "cells": [
  {
   "cell_type": "code",
   "execution_count": 2,
   "metadata": {},
   "outputs": [
    {
     "name": "stdout",
     "output_type": "stream",
     "text": [
      "{\"0\":{\"LATITUDE\":31.5520451825,\"LONGITUD\":-101.4789974484,\"FUNC_SYS\":5,\"RELJCT1\":0,\"TWAY_ID\":\"RR-33\",\"TWAY_ID2\":null}}\n",
      "<Response [200]>\n",
      "{'0': {'LATITUDE': 31.5520451825, 'LIKELIHOOD': 0.1903959076833213, 'LONGITUD': -101.4789974484}}\n",
      "\n",
      "<Response [200]>\n",
      "{'106962': {'LATITUDE': 38.1524892121, 'LIKELIHOOD': 0.1903959076833213, 'LONGITUD': -85.8181148242}, '27018': {'LATITUDE': 32.75605556, 'LIKELIHOOD': 0.1914294603572059, 'LONGITUD': -79.99777778}}\n",
      "\n",
      "<Response [200]>\n",
      "{'anyid1': {'LATITUDE': 38.1524892121, 'LIKELIHOOD': 0.1903959076833213, 'LONGITUD': -85.8181148242}, 'anyid2': {'LATITUDE': 32.75605556, 'LIKELIHOOD': 0.1914294603572059, 'LONGITUD': -79.99777778}}\n",
      "\n"
     ]
    }
   ],
   "source": [
    "import json\n",
    "input1 = '{\"0\":{\"LATITUDE\":31.5520451825,\"LONGITUD\":-101.4789974484,\\\n",
    "\"FUNC_SYS\":5,\"RELJCT1\":0,\\\n",
    "\"TWAY_ID\":\"RR-33\",\"TWAY_ID2\":null}}'\n",
    "print(input1)\n",
    "\n",
    "input2 = '{\"106962\":{\"LATITUDE\":38.1524892121,\"LONGITUD\":-85.8181148242,\"FUNC_SYS\":7,\"RELJCT1\":0,\"TWAY_ID\":\"ST ANDREWS CHURCH RD\",\"TWAY_ID2\":null},\\\n",
    "\"27018\":{\"LATITUDE\":32.75605556,\"LONGITUD\":-79.99777778,\"FUNC_SYS\":4,\"RELJCT1\":0,\"TWAY_ID\":\"SR-700\",\"TWAY_ID2\":\"SR-53\"}}'\n",
    "\n",
    "input3 = '{\"anyid1\":{\"LATITUDE\":38.1524892121,\"LONGITUD\":-85.8181148242,\"FUNC_SYS\":7,\"RELJCT1\":0,\"TWAY_ID\":\"ST ANDREWS CHURCH RD\",\"TWAY_ID2\":null},\\\n",
    "\"anyid2\":{\"LATITUDE\":32.75605556,\"LONGITUD\":-79.99777778,\"FUNC_SYS\":4,\"RELJCT1\":0,\"TWAY_ID\":\"SR-700\",\"TWAY_ID2\":\"SR-53\"}}'\n",
    "\n",
    "import requests\n",
    "url = \"http://localhost:5000/api\"\n",
    "# url = \"https://e8085d92.ngrok.io/api\"\n",
    "# url = \"https://saferoutes-pred.herokuapp.com/api\"\n",
    "response = requests.post(url, input1)\n",
    "print(response)\n",
    "print(response.json())\n",
    "print()\n",
    "\n",
    "response = requests.post(url, input2)\n",
    "print(response)\n",
    "print(response.json())\n",
    "print()\n",
    "\n",
    "response = requests.post(url, input3)\n",
    "print(response)\n",
    "print(response.json())\n",
    "print()\n",
    "\n",
    "# input and output example:\n",
    "# {\"0\":{\"LATITUDE\":31.5520451825,\"LONGITUD\":-101.4789974484,\"FUNC_SYS\":5,\"RELJCT1\":0,\"TWAY_ID\":\"RR-33\",\"TWAY_ID2\":null}}\n",
    "# <Response [200]>\n",
    "# {'0': {'LATITUDE': 31.5520451825, 'LIKELYHOOD': 0.18534010848668056, 'LONGITUD': -101.4789974484}}"
   ]
  },
  {
   "cell_type": "code",
   "execution_count": 16,
   "metadata": {},
   "outputs": [
    {
     "name": "stdout",
     "output_type": "stream",
     "text": [
      "<Response [200]>\n",
      "{'0': {'LATITUDE': 31.5520451825, 'LIKELIHOOD': 0.1903959076833213, 'LONGITUD': -101.4789974484}}\n",
      "<Response [200]>\n",
      "{'0': {'LATITUDE': 70, 'LIKELIHOOD': 0.1903959076833213, 'LONGITUD': 60}}\n"
     ]
    }
   ],
   "source": [
    "input4 = '{\"0\":{\"LATITUDE\":31.5520451825,\"LONGITUD\":-101.4789974484,\\\n",
    "\"FUNC_SYS\":null,\"RELJCT1\":null,\\\n",
    "\"TWAY_ID\":null,\"TWAY_ID2\":null}}'\n",
    "input5 = '{\"0\":{\"LATITUDE\":70,\"LONGITUD\":60,\\\n",
    "\"FUNC_SYS\":4,\"RELJCT1\":1,\\\n",
    "\"TWAY_ID\":null,\"TWAY_ID2\":null}}'\n",
    "\n",
    "response = requests.post(url, input4)\n",
    "print(response)\n",
    "print(response.json())\n",
    "response = requests.post(url, input5)\n",
    "print(response)\n",
    "print(response.json())"
   ]
  },
  {
   "cell_type": "code",
   "execution_count": null,
   "metadata": {},
   "outputs": [],
   "source": []
  }
 ],
 "metadata": {
  "kernelspec": {
   "display_name": "Python 3",
   "language": "python",
   "name": "python3"
  },
  "language_info": {
   "codemirror_mode": {
    "name": "ipython",
    "version": 3
   },
   "file_extension": ".py",
   "mimetype": "text/x-python",
   "name": "python",
   "nbconvert_exporter": "python",
   "pygments_lexer": "ipython3",
   "version": "3.7.3"
  }
 },
 "nbformat": 4,
 "nbformat_minor": 2
}
